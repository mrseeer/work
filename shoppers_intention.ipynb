{
 "cells": [
  {
   "cell_type": "markdown",
   "id": "fa11bcd9",
   "metadata": {},
   "source": [
    "# Описание проекта"
   ]
  },
  {
   "cell_type": "markdown",
   "id": "fbb76bbf",
   "metadata": {},
   "source": [
    "Дан датасет online_shoppers_intention.csv, который содержит информацию о посетителях интернет-магазина и их поведении на сайте. Необходимо проанализировать данный датасет, построить модель машинного обучения, которая сможет предсказывать, приносят ли действия пользователя Revenue или нет."
   ]
  },
  {
   "cell_type": "markdown",
   "id": "62dc78fa",
   "metadata": {},
   "source": [
    "## 1 Открытие файла и предобработка данных"
   ]
  },
  {
   "cell_type": "code",
   "execution_count": 1,
   "id": "e9bd5fc0",
   "metadata": {},
   "outputs": [
    {
     "name": "stdout",
     "output_type": "stream",
     "text": [
      "Requirement already satisfied: lightgbm in c:\\users\\n07no\\anaconda3\\lib\\site-packages (4.0.0)\n",
      "Requirement already satisfied: scipy in c:\\users\\n07no\\anaconda3\\lib\\site-packages (from lightgbm) (1.9.1)\n",
      "Requirement already satisfied: numpy in c:\\users\\n07no\\anaconda3\\lib\\site-packages (from lightgbm) (1.21.5)\n"
     ]
    }
   ],
   "source": [
    "!pip install lightgbm"
   ]
  },
  {
   "cell_type": "code",
   "execution_count": 2,
   "id": "5ea1b7fb",
   "metadata": {},
   "outputs": [
    {
     "name": "stdout",
     "output_type": "stream",
     "text": [
      "Requirement already satisfied: hyperopt in c:\\users\\n07no\\anaconda3\\lib\\site-packages (0.2.7)\n",
      "Requirement already satisfied: six in c:\\users\\n07no\\anaconda3\\lib\\site-packages (from hyperopt) (1.16.0)\n",
      "Requirement already satisfied: numpy in c:\\users\\n07no\\anaconda3\\lib\\site-packages (from hyperopt) (1.21.5)\n",
      "Requirement already satisfied: networkx>=2.2 in c:\\users\\n07no\\anaconda3\\lib\\site-packages (from hyperopt) (2.8.4)\n",
      "Requirement already satisfied: py4j in c:\\users\\n07no\\anaconda3\\lib\\site-packages (from hyperopt) (0.10.9.7)\n",
      "Requirement already satisfied: scipy in c:\\users\\n07no\\anaconda3\\lib\\site-packages (from hyperopt) (1.9.1)\n",
      "Requirement already satisfied: cloudpickle in c:\\users\\n07no\\anaconda3\\lib\\site-packages (from hyperopt) (2.0.0)\n",
      "Requirement already satisfied: tqdm in c:\\users\\n07no\\anaconda3\\lib\\site-packages (from hyperopt) (4.64.1)\n",
      "Requirement already satisfied: future in c:\\users\\n07no\\anaconda3\\lib\\site-packages (from hyperopt) (0.18.2)\n",
      "Requirement already satisfied: colorama in c:\\users\\n07no\\anaconda3\\lib\\site-packages (from tqdm->hyperopt) (0.4.5)\n"
     ]
    }
   ],
   "source": [
    "!pip install hyperopt"
   ]
  },
  {
   "cell_type": "markdown",
   "id": "2ae513c2",
   "metadata": {},
   "source": [
    "Импортируем нужные нам библиотеки"
   ]
  },
  {
   "cell_type": "code",
   "execution_count": 3,
   "id": "fcaedce9",
   "metadata": {},
   "outputs": [],
   "source": [
    "import time\n",
    "import warnings\n",
    "import numpy as np\n",
    "import pandas as pd\n",
    "import seaborn as sns\n",
    "import lightgbm as lgb\n",
    "import matplotlib.pyplot as plt\n",
    "from sklearn.linear_model import LinearRegression\n",
    "from sklearn.ensemble import RandomForestClassifier\n",
    "from sklearn.metrics import accuracy_score\n",
    "from sklearn.metrics import mean_squared_error, r2_score\n",
    "from hyperopt import fmin, tpe, hp, Trials\n",
    "from sklearn.model_selection import cross_val_score\n",
    "from sklearn.model_selection import cross_val_predict\n",
    "\n",
    "from random import randint\n",
    "from tqdm import tqdm_notebook\n",
    "from lightgbm import LGBMRegressor\n",
    "from sklearn.linear_model import LinearRegression\n",
    "from sklearn.model_selection import GridSearchCV, KFold, train_test_split\n",
    "from sklearn.preprocessing import OrdinalEncoder, StandardScaler, LabelEncoder"
   ]
  },
  {
   "cell_type": "markdown",
   "id": "9320aa68",
   "metadata": {},
   "source": [
    "Откроем файл и посмотрим на данные"
   ]
  },
  {
   "cell_type": "code",
   "execution_count": 4,
   "id": "83ae1031",
   "metadata": {},
   "outputs": [],
   "source": [
    "df = pd.read_csv(\"C:/Users/n07no/OneDrive/Документы/online_shoppers_intention.csv\")"
   ]
  },
  {
   "cell_type": "code",
   "execution_count": 5,
   "id": "e6cae5e5",
   "metadata": {},
   "outputs": [
    {
     "data": {
      "text/html": [
       "<div>\n",
       "<style scoped>\n",
       "    .dataframe tbody tr th:only-of-type {\n",
       "        vertical-align: middle;\n",
       "    }\n",
       "\n",
       "    .dataframe tbody tr th {\n",
       "        vertical-align: top;\n",
       "    }\n",
       "\n",
       "    .dataframe thead th {\n",
       "        text-align: right;\n",
       "    }\n",
       "</style>\n",
       "<table border=\"1\" class=\"dataframe\">\n",
       "  <thead>\n",
       "    <tr style=\"text-align: right;\">\n",
       "      <th></th>\n",
       "      <th>Administrative</th>\n",
       "      <th>Administrative_Duration</th>\n",
       "      <th>Informational</th>\n",
       "      <th>Informational_Duration</th>\n",
       "      <th>ProductRelated</th>\n",
       "      <th>ProductRelated_Duration</th>\n",
       "      <th>BounceRates</th>\n",
       "      <th>ExitRates</th>\n",
       "      <th>PageValues</th>\n",
       "      <th>SpecialDay</th>\n",
       "      <th>Month</th>\n",
       "      <th>OperatingSystems</th>\n",
       "      <th>Browser</th>\n",
       "      <th>Region</th>\n",
       "      <th>TrafficType</th>\n",
       "      <th>VisitorType</th>\n",
       "      <th>Weekend</th>\n",
       "      <th>Revenue</th>\n",
       "    </tr>\n",
       "  </thead>\n",
       "  <tbody>\n",
       "    <tr>\n",
       "      <th>0</th>\n",
       "      <td>0</td>\n",
       "      <td>0.0</td>\n",
       "      <td>0</td>\n",
       "      <td>0.0</td>\n",
       "      <td>1</td>\n",
       "      <td>0.000000</td>\n",
       "      <td>0.20</td>\n",
       "      <td>0.20</td>\n",
       "      <td>0.0</td>\n",
       "      <td>0.0</td>\n",
       "      <td>Feb</td>\n",
       "      <td>1</td>\n",
       "      <td>1</td>\n",
       "      <td>1</td>\n",
       "      <td>1</td>\n",
       "      <td>Returning_Visitor</td>\n",
       "      <td>False</td>\n",
       "      <td>False</td>\n",
       "    </tr>\n",
       "    <tr>\n",
       "      <th>1</th>\n",
       "      <td>0</td>\n",
       "      <td>0.0</td>\n",
       "      <td>0</td>\n",
       "      <td>0.0</td>\n",
       "      <td>2</td>\n",
       "      <td>64.000000</td>\n",
       "      <td>0.00</td>\n",
       "      <td>0.10</td>\n",
       "      <td>0.0</td>\n",
       "      <td>0.0</td>\n",
       "      <td>Feb</td>\n",
       "      <td>2</td>\n",
       "      <td>2</td>\n",
       "      <td>1</td>\n",
       "      <td>2</td>\n",
       "      <td>Returning_Visitor</td>\n",
       "      <td>False</td>\n",
       "      <td>False</td>\n",
       "    </tr>\n",
       "    <tr>\n",
       "      <th>2</th>\n",
       "      <td>0</td>\n",
       "      <td>0.0</td>\n",
       "      <td>0</td>\n",
       "      <td>0.0</td>\n",
       "      <td>1</td>\n",
       "      <td>0.000000</td>\n",
       "      <td>0.20</td>\n",
       "      <td>0.20</td>\n",
       "      <td>0.0</td>\n",
       "      <td>0.0</td>\n",
       "      <td>Feb</td>\n",
       "      <td>4</td>\n",
       "      <td>1</td>\n",
       "      <td>9</td>\n",
       "      <td>3</td>\n",
       "      <td>Returning_Visitor</td>\n",
       "      <td>False</td>\n",
       "      <td>False</td>\n",
       "    </tr>\n",
       "    <tr>\n",
       "      <th>3</th>\n",
       "      <td>0</td>\n",
       "      <td>0.0</td>\n",
       "      <td>0</td>\n",
       "      <td>0.0</td>\n",
       "      <td>2</td>\n",
       "      <td>2.666667</td>\n",
       "      <td>0.05</td>\n",
       "      <td>0.14</td>\n",
       "      <td>0.0</td>\n",
       "      <td>0.0</td>\n",
       "      <td>Feb</td>\n",
       "      <td>3</td>\n",
       "      <td>2</td>\n",
       "      <td>2</td>\n",
       "      <td>4</td>\n",
       "      <td>Returning_Visitor</td>\n",
       "      <td>False</td>\n",
       "      <td>False</td>\n",
       "    </tr>\n",
       "    <tr>\n",
       "      <th>4</th>\n",
       "      <td>0</td>\n",
       "      <td>0.0</td>\n",
       "      <td>0</td>\n",
       "      <td>0.0</td>\n",
       "      <td>10</td>\n",
       "      <td>627.500000</td>\n",
       "      <td>0.02</td>\n",
       "      <td>0.05</td>\n",
       "      <td>0.0</td>\n",
       "      <td>0.0</td>\n",
       "      <td>Feb</td>\n",
       "      <td>3</td>\n",
       "      <td>3</td>\n",
       "      <td>1</td>\n",
       "      <td>4</td>\n",
       "      <td>Returning_Visitor</td>\n",
       "      <td>True</td>\n",
       "      <td>False</td>\n",
       "    </tr>\n",
       "  </tbody>\n",
       "</table>\n",
       "</div>"
      ],
      "text/plain": [
       "   Administrative  Administrative_Duration  Informational  \\\n",
       "0               0                      0.0              0   \n",
       "1               0                      0.0              0   \n",
       "2               0                      0.0              0   \n",
       "3               0                      0.0              0   \n",
       "4               0                      0.0              0   \n",
       "\n",
       "   Informational_Duration  ProductRelated  ProductRelated_Duration  \\\n",
       "0                     0.0               1                 0.000000   \n",
       "1                     0.0               2                64.000000   \n",
       "2                     0.0               1                 0.000000   \n",
       "3                     0.0               2                 2.666667   \n",
       "4                     0.0              10               627.500000   \n",
       "\n",
       "   BounceRates  ExitRates  PageValues  SpecialDay Month  OperatingSystems  \\\n",
       "0         0.20       0.20         0.0         0.0   Feb                 1   \n",
       "1         0.00       0.10         0.0         0.0   Feb                 2   \n",
       "2         0.20       0.20         0.0         0.0   Feb                 4   \n",
       "3         0.05       0.14         0.0         0.0   Feb                 3   \n",
       "4         0.02       0.05         0.0         0.0   Feb                 3   \n",
       "\n",
       "   Browser  Region  TrafficType        VisitorType  Weekend  Revenue  \n",
       "0        1       1            1  Returning_Visitor    False    False  \n",
       "1        2       1            2  Returning_Visitor    False    False  \n",
       "2        1       9            3  Returning_Visitor    False    False  \n",
       "3        2       2            4  Returning_Visitor    False    False  \n",
       "4        3       1            4  Returning_Visitor     True    False  "
      ]
     },
     "execution_count": 5,
     "metadata": {},
     "output_type": "execute_result"
    }
   ],
   "source": [
    "df.head()"
   ]
  },
  {
   "cell_type": "code",
   "execution_count": 6,
   "id": "85eded90",
   "metadata": {},
   "outputs": [
    {
     "data": {
      "text/html": [
       "<div>\n",
       "<style scoped>\n",
       "    .dataframe tbody tr th:only-of-type {\n",
       "        vertical-align: middle;\n",
       "    }\n",
       "\n",
       "    .dataframe tbody tr th {\n",
       "        vertical-align: top;\n",
       "    }\n",
       "\n",
       "    .dataframe thead th {\n",
       "        text-align: right;\n",
       "    }\n",
       "</style>\n",
       "<table border=\"1\" class=\"dataframe\">\n",
       "  <thead>\n",
       "    <tr style=\"text-align: right;\">\n",
       "      <th></th>\n",
       "      <th>Administrative</th>\n",
       "      <th>Administrative_Duration</th>\n",
       "      <th>Informational</th>\n",
       "      <th>Informational_Duration</th>\n",
       "      <th>ProductRelated</th>\n",
       "      <th>ProductRelated_Duration</th>\n",
       "      <th>BounceRates</th>\n",
       "      <th>ExitRates</th>\n",
       "      <th>PageValues</th>\n",
       "      <th>SpecialDay</th>\n",
       "      <th>OperatingSystems</th>\n",
       "      <th>Browser</th>\n",
       "      <th>Region</th>\n",
       "      <th>TrafficType</th>\n",
       "    </tr>\n",
       "  </thead>\n",
       "  <tbody>\n",
       "    <tr>\n",
       "      <th>count</th>\n",
       "      <td>12330.000000</td>\n",
       "      <td>12330.000000</td>\n",
       "      <td>12330.000000</td>\n",
       "      <td>12330.000000</td>\n",
       "      <td>12330.000000</td>\n",
       "      <td>12330.000000</td>\n",
       "      <td>12330.000000</td>\n",
       "      <td>12330.000000</td>\n",
       "      <td>12330.000000</td>\n",
       "      <td>12330.000000</td>\n",
       "      <td>12330.000000</td>\n",
       "      <td>12330.000000</td>\n",
       "      <td>12330.000000</td>\n",
       "      <td>12330.000000</td>\n",
       "    </tr>\n",
       "    <tr>\n",
       "      <th>mean</th>\n",
       "      <td>2.315166</td>\n",
       "      <td>80.818611</td>\n",
       "      <td>0.503569</td>\n",
       "      <td>34.472398</td>\n",
       "      <td>31.731468</td>\n",
       "      <td>1194.746220</td>\n",
       "      <td>0.022191</td>\n",
       "      <td>0.043073</td>\n",
       "      <td>5.889258</td>\n",
       "      <td>0.061427</td>\n",
       "      <td>2.124006</td>\n",
       "      <td>2.357097</td>\n",
       "      <td>3.147364</td>\n",
       "      <td>4.069586</td>\n",
       "    </tr>\n",
       "    <tr>\n",
       "      <th>std</th>\n",
       "      <td>3.321784</td>\n",
       "      <td>176.779107</td>\n",
       "      <td>1.270156</td>\n",
       "      <td>140.749294</td>\n",
       "      <td>44.475503</td>\n",
       "      <td>1913.669288</td>\n",
       "      <td>0.048488</td>\n",
       "      <td>0.048597</td>\n",
       "      <td>18.568437</td>\n",
       "      <td>0.198917</td>\n",
       "      <td>0.911325</td>\n",
       "      <td>1.717277</td>\n",
       "      <td>2.401591</td>\n",
       "      <td>4.025169</td>\n",
       "    </tr>\n",
       "    <tr>\n",
       "      <th>min</th>\n",
       "      <td>0.000000</td>\n",
       "      <td>0.000000</td>\n",
       "      <td>0.000000</td>\n",
       "      <td>0.000000</td>\n",
       "      <td>0.000000</td>\n",
       "      <td>0.000000</td>\n",
       "      <td>0.000000</td>\n",
       "      <td>0.000000</td>\n",
       "      <td>0.000000</td>\n",
       "      <td>0.000000</td>\n",
       "      <td>1.000000</td>\n",
       "      <td>1.000000</td>\n",
       "      <td>1.000000</td>\n",
       "      <td>1.000000</td>\n",
       "    </tr>\n",
       "    <tr>\n",
       "      <th>25%</th>\n",
       "      <td>0.000000</td>\n",
       "      <td>0.000000</td>\n",
       "      <td>0.000000</td>\n",
       "      <td>0.000000</td>\n",
       "      <td>7.000000</td>\n",
       "      <td>184.137500</td>\n",
       "      <td>0.000000</td>\n",
       "      <td>0.014286</td>\n",
       "      <td>0.000000</td>\n",
       "      <td>0.000000</td>\n",
       "      <td>2.000000</td>\n",
       "      <td>2.000000</td>\n",
       "      <td>1.000000</td>\n",
       "      <td>2.000000</td>\n",
       "    </tr>\n",
       "    <tr>\n",
       "      <th>50%</th>\n",
       "      <td>1.000000</td>\n",
       "      <td>7.500000</td>\n",
       "      <td>0.000000</td>\n",
       "      <td>0.000000</td>\n",
       "      <td>18.000000</td>\n",
       "      <td>598.936905</td>\n",
       "      <td>0.003112</td>\n",
       "      <td>0.025156</td>\n",
       "      <td>0.000000</td>\n",
       "      <td>0.000000</td>\n",
       "      <td>2.000000</td>\n",
       "      <td>2.000000</td>\n",
       "      <td>3.000000</td>\n",
       "      <td>2.000000</td>\n",
       "    </tr>\n",
       "    <tr>\n",
       "      <th>75%</th>\n",
       "      <td>4.000000</td>\n",
       "      <td>93.256250</td>\n",
       "      <td>0.000000</td>\n",
       "      <td>0.000000</td>\n",
       "      <td>38.000000</td>\n",
       "      <td>1464.157214</td>\n",
       "      <td>0.016813</td>\n",
       "      <td>0.050000</td>\n",
       "      <td>0.000000</td>\n",
       "      <td>0.000000</td>\n",
       "      <td>3.000000</td>\n",
       "      <td>2.000000</td>\n",
       "      <td>4.000000</td>\n",
       "      <td>4.000000</td>\n",
       "    </tr>\n",
       "    <tr>\n",
       "      <th>max</th>\n",
       "      <td>27.000000</td>\n",
       "      <td>3398.750000</td>\n",
       "      <td>24.000000</td>\n",
       "      <td>2549.375000</td>\n",
       "      <td>705.000000</td>\n",
       "      <td>63973.522230</td>\n",
       "      <td>0.200000</td>\n",
       "      <td>0.200000</td>\n",
       "      <td>361.763742</td>\n",
       "      <td>1.000000</td>\n",
       "      <td>8.000000</td>\n",
       "      <td>13.000000</td>\n",
       "      <td>9.000000</td>\n",
       "      <td>20.000000</td>\n",
       "    </tr>\n",
       "  </tbody>\n",
       "</table>\n",
       "</div>"
      ],
      "text/plain": [
       "       Administrative  Administrative_Duration  Informational  \\\n",
       "count    12330.000000             12330.000000   12330.000000   \n",
       "mean         2.315166                80.818611       0.503569   \n",
       "std          3.321784               176.779107       1.270156   \n",
       "min          0.000000                 0.000000       0.000000   \n",
       "25%          0.000000                 0.000000       0.000000   \n",
       "50%          1.000000                 7.500000       0.000000   \n",
       "75%          4.000000                93.256250       0.000000   \n",
       "max         27.000000              3398.750000      24.000000   \n",
       "\n",
       "       Informational_Duration  ProductRelated  ProductRelated_Duration  \\\n",
       "count            12330.000000    12330.000000             12330.000000   \n",
       "mean                34.472398       31.731468              1194.746220   \n",
       "std                140.749294       44.475503              1913.669288   \n",
       "min                  0.000000        0.000000                 0.000000   \n",
       "25%                  0.000000        7.000000               184.137500   \n",
       "50%                  0.000000       18.000000               598.936905   \n",
       "75%                  0.000000       38.000000              1464.157214   \n",
       "max               2549.375000      705.000000             63973.522230   \n",
       "\n",
       "        BounceRates     ExitRates    PageValues    SpecialDay  \\\n",
       "count  12330.000000  12330.000000  12330.000000  12330.000000   \n",
       "mean       0.022191      0.043073      5.889258      0.061427   \n",
       "std        0.048488      0.048597     18.568437      0.198917   \n",
       "min        0.000000      0.000000      0.000000      0.000000   \n",
       "25%        0.000000      0.014286      0.000000      0.000000   \n",
       "50%        0.003112      0.025156      0.000000      0.000000   \n",
       "75%        0.016813      0.050000      0.000000      0.000000   \n",
       "max        0.200000      0.200000    361.763742      1.000000   \n",
       "\n",
       "       OperatingSystems       Browser        Region   TrafficType  \n",
       "count      12330.000000  12330.000000  12330.000000  12330.000000  \n",
       "mean           2.124006      2.357097      3.147364      4.069586  \n",
       "std            0.911325      1.717277      2.401591      4.025169  \n",
       "min            1.000000      1.000000      1.000000      1.000000  \n",
       "25%            2.000000      2.000000      1.000000      2.000000  \n",
       "50%            2.000000      2.000000      3.000000      2.000000  \n",
       "75%            3.000000      2.000000      4.000000      4.000000  \n",
       "max            8.000000     13.000000      9.000000     20.000000  "
      ]
     },
     "execution_count": 6,
     "metadata": {},
     "output_type": "execute_result"
    }
   ],
   "source": [
    "df.describe()"
   ]
  },
  {
   "cell_type": "code",
   "execution_count": 7,
   "id": "84a4e2f3",
   "metadata": {},
   "outputs": [
    {
     "name": "stdout",
     "output_type": "stream",
     "text": [
      "<class 'pandas.core.frame.DataFrame'>\n",
      "RangeIndex: 12330 entries, 0 to 12329\n",
      "Data columns (total 18 columns):\n",
      " #   Column                   Non-Null Count  Dtype  \n",
      "---  ------                   --------------  -----  \n",
      " 0   Administrative           12330 non-null  int64  \n",
      " 1   Administrative_Duration  12330 non-null  float64\n",
      " 2   Informational            12330 non-null  int64  \n",
      " 3   Informational_Duration   12330 non-null  float64\n",
      " 4   ProductRelated           12330 non-null  int64  \n",
      " 5   ProductRelated_Duration  12330 non-null  float64\n",
      " 6   BounceRates              12330 non-null  float64\n",
      " 7   ExitRates                12330 non-null  float64\n",
      " 8   PageValues               12330 non-null  float64\n",
      " 9   SpecialDay               12330 non-null  float64\n",
      " 10  Month                    12330 non-null  object \n",
      " 11  OperatingSystems         12330 non-null  int64  \n",
      " 12  Browser                  12330 non-null  int64  \n",
      " 13  Region                   12330 non-null  int64  \n",
      " 14  TrafficType              12330 non-null  int64  \n",
      " 15  VisitorType              12330 non-null  object \n",
      " 16  Weekend                  12330 non-null  bool   \n",
      " 17  Revenue                  12330 non-null  bool   \n",
      "dtypes: bool(2), float64(7), int64(7), object(2)\n",
      "memory usage: 1.5+ MB\n"
     ]
    }
   ],
   "source": [
    "df.info()"
   ]
  },
  {
   "cell_type": "markdown",
   "id": "fd7f503c",
   "metadata": {},
   "source": [
    "С первого взгдяда не обнаружилось пропущенных значений. Однако в глаза бросается написание столбцов, приведем их к нужному виду, посмотрим есть ли пропущенные значения в датасете и приведем колонки weekend и revenue к числововму типу данных"
   ]
  },
  {
   "cell_type": "code",
   "execution_count": 8,
   "id": "ac196d65",
   "metadata": {},
   "outputs": [
    {
     "data": {
      "text/plain": [
       "Administrative             0\n",
       "Administrative_Duration    0\n",
       "Informational              0\n",
       "Informational_Duration     0\n",
       "ProductRelated             0\n",
       "ProductRelated_Duration    0\n",
       "BounceRates                0\n",
       "ExitRates                  0\n",
       "PageValues                 0\n",
       "SpecialDay                 0\n",
       "Month                      0\n",
       "OperatingSystems           0\n",
       "Browser                    0\n",
       "Region                     0\n",
       "TrafficType                0\n",
       "VisitorType                0\n",
       "Weekend                    0\n",
       "Revenue                    0\n",
       "dtype: int64"
      ]
     },
     "execution_count": 8,
     "metadata": {},
     "output_type": "execute_result"
    }
   ],
   "source": [
    "df.isna().sum()"
   ]
  },
  {
   "cell_type": "code",
   "execution_count": 9,
   "id": "8c27bd16",
   "metadata": {},
   "outputs": [],
   "source": [
    "df.columns = map(str.lower, df.columns)"
   ]
  },
  {
   "cell_type": "code",
   "execution_count": 10,
   "id": "a43a26e6",
   "metadata": {},
   "outputs": [],
   "source": [
    "df.rename(columns = {'operatingsystems':'operating_systems', 'traffictype':'traffic_type ', \n",
    "                     'productrelated':'product_related', 'bouncerates':'bounce_rates', 'exitrates':'exit_rates',\n",
    "                     'pagevalues':'page_values', 'specialday':'special_day', 'visitortype':'visitor_type',\n",
    "                     'productrelated_duration':'product_related_duration '}, inplace = True )"
   ]
  },
  {
   "cell_type": "code",
   "execution_count": 11,
   "id": "11eb4319",
   "metadata": {},
   "outputs": [],
   "source": [
    "df['revenue'] = df['revenue'].astype(int)"
   ]
  },
  {
   "cell_type": "code",
   "execution_count": 12,
   "id": "b66c2c86",
   "metadata": {},
   "outputs": [],
   "source": [
    "df['weekend'] = df['weekend'].astype(int)"
   ]
  },
  {
   "cell_type": "markdown",
   "id": "1c6562f9",
   "metadata": {},
   "source": [
    "Посмотрим на дубликаты в данных"
   ]
  },
  {
   "cell_type": "code",
   "execution_count": 13,
   "id": "83028110",
   "metadata": {},
   "outputs": [
    {
     "data": {
      "text/plain": [
       "0        False\n",
       "1        False\n",
       "2        False\n",
       "3        False\n",
       "4        False\n",
       "         ...  \n",
       "12325    False\n",
       "12326    False\n",
       "12327    False\n",
       "12328    False\n",
       "12329    False\n",
       "Length: 12330, dtype: bool"
      ]
     },
     "execution_count": 13,
     "metadata": {},
     "output_type": "execute_result"
    }
   ],
   "source": [
    "df.duplicated() "
   ]
  },
  {
   "cell_type": "code",
   "execution_count": 14,
   "id": "1c03a760",
   "metadata": {},
   "outputs": [
    {
     "data": {
      "text/plain": [
       "0        False\n",
       "1         True\n",
       "2         True\n",
       "3         True\n",
       "4         True\n",
       "         ...  \n",
       "12325     True\n",
       "12326     True\n",
       "12327     True\n",
       "12328     True\n",
       "12329     True\n",
       "Name: month, Length: 12330, dtype: bool"
      ]
     },
     "execution_count": 14,
     "metadata": {},
     "output_type": "execute_result"
    }
   ],
   "source": [
    "df['month'].duplicated()"
   ]
  },
  {
   "cell_type": "markdown",
   "id": "ffbd276c",
   "metadata": {},
   "source": [
    "Дубликаты в данных удалять нельзя, поскольку это может сильно исказить результаты анализа"
   ]
  },
  {
   "cell_type": "code",
   "execution_count": 15,
   "id": "0efbb2ef",
   "metadata": {},
   "outputs": [
    {
     "name": "stdout",
     "output_type": "stream",
     "text": [
      "<class 'pandas.core.frame.DataFrame'>\n",
      "RangeIndex: 12330 entries, 0 to 12329\n",
      "Data columns (total 18 columns):\n",
      " #   Column                     Non-Null Count  Dtype  \n",
      "---  ------                     --------------  -----  \n",
      " 0   administrative             12330 non-null  int64  \n",
      " 1   administrative_duration    12330 non-null  float64\n",
      " 2   informational              12330 non-null  int64  \n",
      " 3   informational_duration     12330 non-null  float64\n",
      " 4   product_related            12330 non-null  int64  \n",
      " 5   product_related_duration   12330 non-null  float64\n",
      " 6   bounce_rates               12330 non-null  float64\n",
      " 7   exit_rates                 12330 non-null  float64\n",
      " 8   page_values                12330 non-null  float64\n",
      " 9   special_day                12330 non-null  float64\n",
      " 10  month                      12330 non-null  object \n",
      " 11  operating_systems          12330 non-null  int64  \n",
      " 12  browser                    12330 non-null  int64  \n",
      " 13  region                     12330 non-null  int64  \n",
      " 14  traffic_type               12330 non-null  int64  \n",
      " 15  visitor_type               12330 non-null  object \n",
      " 16  weekend                    12330 non-null  int32  \n",
      " 17  revenue                    12330 non-null  int32  \n",
      "dtypes: float64(7), int32(2), int64(7), object(2)\n",
      "memory usage: 1.6+ MB\n"
     ]
    }
   ],
   "source": [
    "df.info()"
   ]
  },
  {
   "cell_type": "markdown",
   "id": "f0bd35de",
   "metadata": {},
   "source": [
    "Посмотрим какие значения есть в столбцах visitor_type и month"
   ]
  },
  {
   "cell_type": "code",
   "execution_count": 16,
   "id": "7f063801",
   "metadata": {},
   "outputs": [
    {
     "data": {
      "text/plain": [
       "Returning_Visitor    10551\n",
       "New_Visitor           1694\n",
       "Other                   85\n",
       "Name: visitor_type, dtype: int64"
      ]
     },
     "execution_count": 16,
     "metadata": {},
     "output_type": "execute_result"
    }
   ],
   "source": [
    "df['visitor_type'].value_counts()"
   ]
  },
  {
   "cell_type": "code",
   "execution_count": 17,
   "id": "3725efc0",
   "metadata": {},
   "outputs": [
    {
     "data": {
      "text/plain": [
       "May     3364\n",
       "Nov     2998\n",
       "Mar     1907\n",
       "Dec     1727\n",
       "Oct      549\n",
       "Sep      448\n",
       "Aug      433\n",
       "Jul      432\n",
       "June     288\n",
       "Feb      184\n",
       "Name: month, dtype: int64"
      ]
     },
     "execution_count": 17,
     "metadata": {},
     "output_type": "execute_result"
    }
   ],
   "source": [
    "df['month'].value_counts()"
   ]
  },
  {
   "cell_type": "code",
   "execution_count": 18,
   "id": "726c2ecd",
   "metadata": {},
   "outputs": [
    {
     "data": {
      "text/html": [
       "<div>\n",
       "<style scoped>\n",
       "    .dataframe tbody tr th:only-of-type {\n",
       "        vertical-align: middle;\n",
       "    }\n",
       "\n",
       "    .dataframe tbody tr th {\n",
       "        vertical-align: top;\n",
       "    }\n",
       "\n",
       "    .dataframe thead th {\n",
       "        text-align: right;\n",
       "    }\n",
       "</style>\n",
       "<table border=\"1\" class=\"dataframe\">\n",
       "  <thead>\n",
       "    <tr style=\"text-align: right;\">\n",
       "      <th></th>\n",
       "      <th>administrative</th>\n",
       "      <th>administrative_duration</th>\n",
       "      <th>informational</th>\n",
       "      <th>informational_duration</th>\n",
       "      <th>product_related</th>\n",
       "      <th>product_related_duration</th>\n",
       "      <th>bounce_rates</th>\n",
       "      <th>exit_rates</th>\n",
       "      <th>page_values</th>\n",
       "      <th>special_day</th>\n",
       "      <th>month</th>\n",
       "      <th>operating_systems</th>\n",
       "      <th>browser</th>\n",
       "      <th>region</th>\n",
       "      <th>traffic_type</th>\n",
       "      <th>visitor_type</th>\n",
       "      <th>weekend</th>\n",
       "      <th>revenue</th>\n",
       "    </tr>\n",
       "  </thead>\n",
       "  <tbody>\n",
       "    <tr>\n",
       "      <th>0</th>\n",
       "      <td>0</td>\n",
       "      <td>0.0</td>\n",
       "      <td>0</td>\n",
       "      <td>0.0</td>\n",
       "      <td>1</td>\n",
       "      <td>0.000000</td>\n",
       "      <td>0.200000</td>\n",
       "      <td>0.200000</td>\n",
       "      <td>0.0</td>\n",
       "      <td>0.0</td>\n",
       "      <td>Feb</td>\n",
       "      <td>1</td>\n",
       "      <td>1</td>\n",
       "      <td>1</td>\n",
       "      <td>1</td>\n",
       "      <td>Returning_Visitor</td>\n",
       "      <td>0</td>\n",
       "      <td>0</td>\n",
       "    </tr>\n",
       "    <tr>\n",
       "      <th>1</th>\n",
       "      <td>0</td>\n",
       "      <td>0.0</td>\n",
       "      <td>0</td>\n",
       "      <td>0.0</td>\n",
       "      <td>2</td>\n",
       "      <td>64.000000</td>\n",
       "      <td>0.000000</td>\n",
       "      <td>0.100000</td>\n",
       "      <td>0.0</td>\n",
       "      <td>0.0</td>\n",
       "      <td>Feb</td>\n",
       "      <td>2</td>\n",
       "      <td>2</td>\n",
       "      <td>1</td>\n",
       "      <td>2</td>\n",
       "      <td>Returning_Visitor</td>\n",
       "      <td>0</td>\n",
       "      <td>0</td>\n",
       "    </tr>\n",
       "    <tr>\n",
       "      <th>2</th>\n",
       "      <td>0</td>\n",
       "      <td>0.0</td>\n",
       "      <td>0</td>\n",
       "      <td>0.0</td>\n",
       "      <td>1</td>\n",
       "      <td>0.000000</td>\n",
       "      <td>0.200000</td>\n",
       "      <td>0.200000</td>\n",
       "      <td>0.0</td>\n",
       "      <td>0.0</td>\n",
       "      <td>Feb</td>\n",
       "      <td>4</td>\n",
       "      <td>1</td>\n",
       "      <td>9</td>\n",
       "      <td>3</td>\n",
       "      <td>Returning_Visitor</td>\n",
       "      <td>0</td>\n",
       "      <td>0</td>\n",
       "    </tr>\n",
       "    <tr>\n",
       "      <th>3</th>\n",
       "      <td>0</td>\n",
       "      <td>0.0</td>\n",
       "      <td>0</td>\n",
       "      <td>0.0</td>\n",
       "      <td>2</td>\n",
       "      <td>2.666667</td>\n",
       "      <td>0.050000</td>\n",
       "      <td>0.140000</td>\n",
       "      <td>0.0</td>\n",
       "      <td>0.0</td>\n",
       "      <td>Feb</td>\n",
       "      <td>3</td>\n",
       "      <td>2</td>\n",
       "      <td>2</td>\n",
       "      <td>4</td>\n",
       "      <td>Returning_Visitor</td>\n",
       "      <td>0</td>\n",
       "      <td>0</td>\n",
       "    </tr>\n",
       "    <tr>\n",
       "      <th>4</th>\n",
       "      <td>0</td>\n",
       "      <td>0.0</td>\n",
       "      <td>0</td>\n",
       "      <td>0.0</td>\n",
       "      <td>10</td>\n",
       "      <td>627.500000</td>\n",
       "      <td>0.020000</td>\n",
       "      <td>0.050000</td>\n",
       "      <td>0.0</td>\n",
       "      <td>0.0</td>\n",
       "      <td>Feb</td>\n",
       "      <td>3</td>\n",
       "      <td>3</td>\n",
       "      <td>1</td>\n",
       "      <td>4</td>\n",
       "      <td>Returning_Visitor</td>\n",
       "      <td>1</td>\n",
       "      <td>0</td>\n",
       "    </tr>\n",
       "    <tr>\n",
       "      <th>5</th>\n",
       "      <td>0</td>\n",
       "      <td>0.0</td>\n",
       "      <td>0</td>\n",
       "      <td>0.0</td>\n",
       "      <td>19</td>\n",
       "      <td>154.216667</td>\n",
       "      <td>0.015789</td>\n",
       "      <td>0.024561</td>\n",
       "      <td>0.0</td>\n",
       "      <td>0.0</td>\n",
       "      <td>Feb</td>\n",
       "      <td>2</td>\n",
       "      <td>2</td>\n",
       "      <td>1</td>\n",
       "      <td>3</td>\n",
       "      <td>Returning_Visitor</td>\n",
       "      <td>0</td>\n",
       "      <td>0</td>\n",
       "    </tr>\n",
       "    <tr>\n",
       "      <th>6</th>\n",
       "      <td>0</td>\n",
       "      <td>0.0</td>\n",
       "      <td>0</td>\n",
       "      <td>0.0</td>\n",
       "      <td>1</td>\n",
       "      <td>0.000000</td>\n",
       "      <td>0.200000</td>\n",
       "      <td>0.200000</td>\n",
       "      <td>0.0</td>\n",
       "      <td>0.4</td>\n",
       "      <td>Feb</td>\n",
       "      <td>2</td>\n",
       "      <td>4</td>\n",
       "      <td>3</td>\n",
       "      <td>3</td>\n",
       "      <td>Returning_Visitor</td>\n",
       "      <td>0</td>\n",
       "      <td>0</td>\n",
       "    </tr>\n",
       "    <tr>\n",
       "      <th>7</th>\n",
       "      <td>1</td>\n",
       "      <td>0.0</td>\n",
       "      <td>0</td>\n",
       "      <td>0.0</td>\n",
       "      <td>0</td>\n",
       "      <td>0.000000</td>\n",
       "      <td>0.200000</td>\n",
       "      <td>0.200000</td>\n",
       "      <td>0.0</td>\n",
       "      <td>0.0</td>\n",
       "      <td>Feb</td>\n",
       "      <td>1</td>\n",
       "      <td>2</td>\n",
       "      <td>1</td>\n",
       "      <td>5</td>\n",
       "      <td>Returning_Visitor</td>\n",
       "      <td>1</td>\n",
       "      <td>0</td>\n",
       "    </tr>\n",
       "    <tr>\n",
       "      <th>8</th>\n",
       "      <td>0</td>\n",
       "      <td>0.0</td>\n",
       "      <td>0</td>\n",
       "      <td>0.0</td>\n",
       "      <td>2</td>\n",
       "      <td>37.000000</td>\n",
       "      <td>0.000000</td>\n",
       "      <td>0.100000</td>\n",
       "      <td>0.0</td>\n",
       "      <td>0.8</td>\n",
       "      <td>Feb</td>\n",
       "      <td>2</td>\n",
       "      <td>2</td>\n",
       "      <td>2</td>\n",
       "      <td>3</td>\n",
       "      <td>Returning_Visitor</td>\n",
       "      <td>0</td>\n",
       "      <td>0</td>\n",
       "    </tr>\n",
       "    <tr>\n",
       "      <th>9</th>\n",
       "      <td>0</td>\n",
       "      <td>0.0</td>\n",
       "      <td>0</td>\n",
       "      <td>0.0</td>\n",
       "      <td>3</td>\n",
       "      <td>738.000000</td>\n",
       "      <td>0.000000</td>\n",
       "      <td>0.022222</td>\n",
       "      <td>0.0</td>\n",
       "      <td>0.4</td>\n",
       "      <td>Feb</td>\n",
       "      <td>2</td>\n",
       "      <td>4</td>\n",
       "      <td>1</td>\n",
       "      <td>2</td>\n",
       "      <td>Returning_Visitor</td>\n",
       "      <td>0</td>\n",
       "      <td>0</td>\n",
       "    </tr>\n",
       "    <tr>\n",
       "      <th>10</th>\n",
       "      <td>0</td>\n",
       "      <td>0.0</td>\n",
       "      <td>0</td>\n",
       "      <td>0.0</td>\n",
       "      <td>3</td>\n",
       "      <td>395.000000</td>\n",
       "      <td>0.000000</td>\n",
       "      <td>0.066667</td>\n",
       "      <td>0.0</td>\n",
       "      <td>0.0</td>\n",
       "      <td>Feb</td>\n",
       "      <td>1</td>\n",
       "      <td>1</td>\n",
       "      <td>3</td>\n",
       "      <td>3</td>\n",
       "      <td>Returning_Visitor</td>\n",
       "      <td>0</td>\n",
       "      <td>0</td>\n",
       "    </tr>\n",
       "    <tr>\n",
       "      <th>11</th>\n",
       "      <td>0</td>\n",
       "      <td>0.0</td>\n",
       "      <td>0</td>\n",
       "      <td>0.0</td>\n",
       "      <td>16</td>\n",
       "      <td>407.750000</td>\n",
       "      <td>0.018750</td>\n",
       "      <td>0.025833</td>\n",
       "      <td>0.0</td>\n",
       "      <td>0.4</td>\n",
       "      <td>Feb</td>\n",
       "      <td>1</td>\n",
       "      <td>1</td>\n",
       "      <td>4</td>\n",
       "      <td>3</td>\n",
       "      <td>Returning_Visitor</td>\n",
       "      <td>0</td>\n",
       "      <td>0</td>\n",
       "    </tr>\n",
       "    <tr>\n",
       "      <th>12</th>\n",
       "      <td>0</td>\n",
       "      <td>0.0</td>\n",
       "      <td>0</td>\n",
       "      <td>0.0</td>\n",
       "      <td>7</td>\n",
       "      <td>280.500000</td>\n",
       "      <td>0.000000</td>\n",
       "      <td>0.028571</td>\n",
       "      <td>0.0</td>\n",
       "      <td>0.0</td>\n",
       "      <td>Feb</td>\n",
       "      <td>1</td>\n",
       "      <td>1</td>\n",
       "      <td>1</td>\n",
       "      <td>3</td>\n",
       "      <td>Returning_Visitor</td>\n",
       "      <td>0</td>\n",
       "      <td>0</td>\n",
       "    </tr>\n",
       "    <tr>\n",
       "      <th>13</th>\n",
       "      <td>0</td>\n",
       "      <td>0.0</td>\n",
       "      <td>0</td>\n",
       "      <td>0.0</td>\n",
       "      <td>6</td>\n",
       "      <td>98.000000</td>\n",
       "      <td>0.000000</td>\n",
       "      <td>0.066667</td>\n",
       "      <td>0.0</td>\n",
       "      <td>0.0</td>\n",
       "      <td>Feb</td>\n",
       "      <td>2</td>\n",
       "      <td>5</td>\n",
       "      <td>1</td>\n",
       "      <td>3</td>\n",
       "      <td>Returning_Visitor</td>\n",
       "      <td>0</td>\n",
       "      <td>0</td>\n",
       "    </tr>\n",
       "    <tr>\n",
       "      <th>14</th>\n",
       "      <td>0</td>\n",
       "      <td>0.0</td>\n",
       "      <td>0</td>\n",
       "      <td>0.0</td>\n",
       "      <td>2</td>\n",
       "      <td>68.000000</td>\n",
       "      <td>0.000000</td>\n",
       "      <td>0.100000</td>\n",
       "      <td>0.0</td>\n",
       "      <td>0.0</td>\n",
       "      <td>Feb</td>\n",
       "      <td>3</td>\n",
       "      <td>2</td>\n",
       "      <td>3</td>\n",
       "      <td>3</td>\n",
       "      <td>Returning_Visitor</td>\n",
       "      <td>0</td>\n",
       "      <td>0</td>\n",
       "    </tr>\n",
       "  </tbody>\n",
       "</table>\n",
       "</div>"
      ],
      "text/plain": [
       "    administrative  administrative_duration  informational  \\\n",
       "0                0                      0.0              0   \n",
       "1                0                      0.0              0   \n",
       "2                0                      0.0              0   \n",
       "3                0                      0.0              0   \n",
       "4                0                      0.0              0   \n",
       "5                0                      0.0              0   \n",
       "6                0                      0.0              0   \n",
       "7                1                      0.0              0   \n",
       "8                0                      0.0              0   \n",
       "9                0                      0.0              0   \n",
       "10               0                      0.0              0   \n",
       "11               0                      0.0              0   \n",
       "12               0                      0.0              0   \n",
       "13               0                      0.0              0   \n",
       "14               0                      0.0              0   \n",
       "\n",
       "    informational_duration  product_related  product_related_duration   \\\n",
       "0                      0.0                1                   0.000000   \n",
       "1                      0.0                2                  64.000000   \n",
       "2                      0.0                1                   0.000000   \n",
       "3                      0.0                2                   2.666667   \n",
       "4                      0.0               10                 627.500000   \n",
       "5                      0.0               19                 154.216667   \n",
       "6                      0.0                1                   0.000000   \n",
       "7                      0.0                0                   0.000000   \n",
       "8                      0.0                2                  37.000000   \n",
       "9                      0.0                3                 738.000000   \n",
       "10                     0.0                3                 395.000000   \n",
       "11                     0.0               16                 407.750000   \n",
       "12                     0.0                7                 280.500000   \n",
       "13                     0.0                6                  98.000000   \n",
       "14                     0.0                2                  68.000000   \n",
       "\n",
       "    bounce_rates  exit_rates  page_values  special_day month  \\\n",
       "0       0.200000    0.200000          0.0          0.0   Feb   \n",
       "1       0.000000    0.100000          0.0          0.0   Feb   \n",
       "2       0.200000    0.200000          0.0          0.0   Feb   \n",
       "3       0.050000    0.140000          0.0          0.0   Feb   \n",
       "4       0.020000    0.050000          0.0          0.0   Feb   \n",
       "5       0.015789    0.024561          0.0          0.0   Feb   \n",
       "6       0.200000    0.200000          0.0          0.4   Feb   \n",
       "7       0.200000    0.200000          0.0          0.0   Feb   \n",
       "8       0.000000    0.100000          0.0          0.8   Feb   \n",
       "9       0.000000    0.022222          0.0          0.4   Feb   \n",
       "10      0.000000    0.066667          0.0          0.0   Feb   \n",
       "11      0.018750    0.025833          0.0          0.4   Feb   \n",
       "12      0.000000    0.028571          0.0          0.0   Feb   \n",
       "13      0.000000    0.066667          0.0          0.0   Feb   \n",
       "14      0.000000    0.100000          0.0          0.0   Feb   \n",
       "\n",
       "    operating_systems  browser  region  traffic_type        visitor_type  \\\n",
       "0                   1        1       1              1  Returning_Visitor   \n",
       "1                   2        2       1              2  Returning_Visitor   \n",
       "2                   4        1       9              3  Returning_Visitor   \n",
       "3                   3        2       2              4  Returning_Visitor   \n",
       "4                   3        3       1              4  Returning_Visitor   \n",
       "5                   2        2       1              3  Returning_Visitor   \n",
       "6                   2        4       3              3  Returning_Visitor   \n",
       "7                   1        2       1              5  Returning_Visitor   \n",
       "8                   2        2       2              3  Returning_Visitor   \n",
       "9                   2        4       1              2  Returning_Visitor   \n",
       "10                  1        1       3              3  Returning_Visitor   \n",
       "11                  1        1       4              3  Returning_Visitor   \n",
       "12                  1        1       1              3  Returning_Visitor   \n",
       "13                  2        5       1              3  Returning_Visitor   \n",
       "14                  3        2       3              3  Returning_Visitor   \n",
       "\n",
       "    weekend  revenue  \n",
       "0         0        0  \n",
       "1         0        0  \n",
       "2         0        0  \n",
       "3         0        0  \n",
       "4         1        0  \n",
       "5         0        0  \n",
       "6         0        0  \n",
       "7         1        0  \n",
       "8         0        0  \n",
       "9         0        0  \n",
       "10        0        0  \n",
       "11        0        0  \n",
       "12        0        0  \n",
       "13        0        0  \n",
       "14        0        0  "
      ]
     },
     "execution_count": 18,
     "metadata": {},
     "output_type": "execute_result"
    }
   ],
   "source": [
    "df.head(15)"
   ]
  },
  {
   "cell_type": "markdown",
   "id": "df50838d",
   "metadata": {},
   "source": [
    "### Вывод"
   ]
  },
  {
   "cell_type": "markdown",
   "id": "e28b6a3f",
   "metadata": {},
   "source": [
    "Данные в хорошем состоянии, не особо нуждаются в предобработке (отсутсвуют пропущенные значения). Нулевые значения во всех столбцах удалять не нужно, т.к. они могут повлиять на итоговый результат исследования в негативном ключе. На этом этапе были изменены типы данных в столбцах \"revenue\" и \"weekend\" и названия столбцов для более удобной работы с ними."
   ]
  },
  {
   "cell_type": "markdown",
   "id": "2eed2920",
   "metadata": {},
   "source": [
    "## 2 Анализ данных"
   ]
  },
  {
   "cell_type": "markdown",
   "id": "def340b7",
   "metadata": {},
   "source": [
    "Переходим к анализу. Здесь посмотрим от чего больше всего зависит прибыль"
   ]
  },
  {
   "cell_type": "code",
   "execution_count": 19,
   "id": "4f21fa4a",
   "metadata": {},
   "outputs": [
    {
     "data": {
      "image/png": "[encoded data removed]",
      "text/plain": [
       "<Figure size 800x600 with 1 Axes>"
      ]
     },
     "metadata": {},
     "output_type": "display_data"
    },
    {
     "data": {
      "image/png": "[encoded data removed]",
      "text/plain": [
       "<Figure size 800x600 with 1 Axes>"
      ]
     },
     "metadata": {},
     "output_type": "display_data"
    },
    {
     "data": {
      "image/png": "[encoded data removed]",
      "text/plain": [
       "<Figure size 800x600 with 1 Axes>"
      ]
     },
     "metadata": {},
     "output_type": "display_data"
    },
    {
     "data": {
      "image/png": "[encoded data removed]",
      "text/plain": [
       "<Figure size 800x600 with 1 Axes>"
      ]
     },
     "metadata": {},
     "output_type": "display_data"
    },
    {
     "data": {
      "image/png": "[encoded data removed]",
      "text/plain": [
       "<Figure size 800x600 with 1 Axes>"
      ]
     },
     "metadata": {},
     "output_type": "display_data"
    }
   ],
   "source": [
    "# Список столбцов, для которых бужут строится график\n",
    "columns_to_plot = ['administrative', 'informational', 'special_day', 'weekend', 'visitor_type']\n",
    "\n",
    "# Итерация по выбранным столбцам и построение графиков\n",
    "for column in columns_to_plot:\n",
    "    plt.figure(figsize=(8, 6))\n",
    "    # Замените 'column1' на текущее значение столбца в цикле\n",
    "    df.groupby(column)['revenue'].mean().plot(kind='bar', color='skyblue')\n",
    "    plt.title(f'Зависимость прибыли от {column}')\n",
    "    plt.xlabel(column)\n",
    "    plt.ylabel('Средняя прибыль')\n",
    "    plt.xticks(rotation=0)\n",
    "    plt.show()"
   ]
  },
  {
   "cell_type": "code",
   "execution_count": 20,
   "id": "db73194d",
   "metadata": {},
   "outputs": [
    {
     "name": "stdout",
     "output_type": "stream",
     "text": [
      "                         administrative  administrative_duration  \\\n",
      "administrative                 1.000000                 0.601583   \n",
      "administrative_duration        0.601583                 1.000000   \n",
      "product_related                0.431119                 0.289087   \n",
      "bounce_rates                  -0.223563                -0.144170   \n",
      "exit_rates                    -0.316483                -0.205798   \n",
      "page_values                    0.098990                 0.067608   \n",
      "weekend                        0.026417                 0.014990   \n",
      "revenue                        0.138917                 0.093587   \n",
      "\n",
      "                         product_related  bounce_rates  exit_rates  \\\n",
      "administrative                  0.431119     -0.223563   -0.316483   \n",
      "administrative_duration         0.289087     -0.144170   -0.205798   \n",
      "product_related                 1.000000     -0.204578   -0.292526   \n",
      "bounce_rates                   -0.204578      1.000000    0.913004   \n",
      "exit_rates                     -0.292526      0.913004    1.000000   \n",
      "page_values                     0.056282     -0.119386   -0.174498   \n",
      "weekend                         0.016092     -0.046514   -0.062587   \n",
      "revenue                         0.158538     -0.150673   -0.207071   \n",
      "\n",
      "                         page_values   weekend   revenue  \n",
      "administrative              0.098990  0.026417  0.138917  \n",
      "administrative_duration     0.067608  0.014990  0.093587  \n",
      "product_related             0.056282  0.016092  0.158538  \n",
      "bounce_rates               -0.119386 -0.046514 -0.150673  \n",
      "exit_rates                 -0.174498 -0.062587 -0.207071  \n",
      "page_values                 1.000000  0.012002  0.492569  \n",
      "weekend                     0.012002  1.000000  0.029295  \n",
      "revenue                     0.492569  0.029295  1.000000  \n"
     ]
    }
   ],
   "source": [
    "data_for_correlation = df[['administrative', 'administrative_duration', 'product_related', 'bounce_rates', 'exit_rates', 'page_values', 'weekend', 'revenue']]\n",
    "\n",
    "# Вычислим корреляцию методом корреляции Пирсона\n",
    "correlation_matrix = data_for_correlation.corr()\n",
    "\n",
    "# Выведем матрицу корреляции\n",
    "print(correlation_matrix)"
   ]
  },
  {
   "cell_type": "markdown",
   "id": "6b533ec0",
   "metadata": {},
   "source": [
    "### Вывод"
   ]
  },
  {
   "cell_type": "markdown",
   "id": "cc8ea16c",
   "metadata": {},
   "source": [
    "В основном прибыль зависит от\n",
    "\n",
    "-количества посещений страниц с административной информацией на веб-сайте\n",
    "\n",
    "-количества информационных страниц на веб-сайте\n",
    "\n",
    "-\"специального дня\"\n",
    "\n",
    "-посещения сайта по выходным дням (наибольшая прибыль именно с посещений в выходные дни, возможно это связано с наличием свободного времени у пользователей)\n",
    "\n",
    "-типа посетителя (в основном зависит от новых пользователей)."
   ]
  },
  {
   "cell_type": "markdown",
   "id": "250a3d9a",
   "metadata": {},
   "source": [
    "## 4 Обучение моделей"
   ]
  },
  {
   "cell_type": "markdown",
   "id": "92c133dc",
   "metadata": {},
   "source": [
    "Построим модели для предсказаний, оценим accuracy каждой модели и выберем наилучшую из них."
   ]
  },
  {
   "cell_type": "markdown",
   "id": "70c767e1",
   "metadata": {},
   "source": [
    "Для начала приведет категориальные признаки в количественные"
   ]
  },
  {
   "cell_type": "code",
   "execution_count": 21,
   "id": "282eb068",
   "metadata": {},
   "outputs": [],
   "source": [
    "df = pd.get_dummies(df, columns=['month', 'visitor_type'], drop_first=True)"
   ]
  },
  {
   "cell_type": "code",
   "execution_count": 22,
   "id": "fd2c5d3e",
   "metadata": {},
   "outputs": [],
   "source": [
    "cat_features = ['month', 'visitor_type']"
   ]
  },
  {
   "cell_type": "markdown",
   "id": "9b8cdb4b",
   "metadata": {},
   "source": [
    "Разделяем признаки и целевую переменную"
   ]
  },
  {
   "cell_type": "code",
   "execution_count": 23,
   "id": "ae685fbc",
   "metadata": {},
   "outputs": [],
   "source": [
    "X = df.drop('revenue', axis=1)\n",
    "y = df['revenue']"
   ]
  },
  {
   "cell_type": "markdown",
   "id": "f5b059a2",
   "metadata": {},
   "source": [
    "Разделение данных на тренировочный и тестовый наборы"
   ]
  },
  {
   "cell_type": "code",
   "execution_count": 24,
   "id": "ebc8a16a",
   "metadata": {},
   "outputs": [],
   "source": [
    "X_train, X_test, y_train, y_test = train_test_split(X, y, test_size=0.2, random_state=42)"
   ]
  },
  {
   "cell_type": "markdown",
   "id": "5a9ca2c8",
   "metadata": {},
   "source": [
    "Масштабируем данные"
   ]
  },
  {
   "cell_type": "code",
   "execution_count": 25,
   "id": "78499ef0",
   "metadata": {},
   "outputs": [],
   "source": [
    "scaler = StandardScaler()\n",
    "X_train = scaler.fit_transform(X_train)\n",
    "X_test = scaler.transform(X_test)"
   ]
  },
  {
   "cell_type": "markdown",
   "id": "f46e0191",
   "metadata": {},
   "source": [
    "### Линейная регрессия"
   ]
  },
  {
   "cell_type": "code",
   "execution_count": 26,
   "id": "758be376",
   "metadata": {},
   "outputs": [
    {
     "name": "stdout",
     "output_type": "stream",
     "text": [
      "Accuracy: 0.8625304136253041\n"
     ]
    }
   ],
   "source": [
    "# Инициализация и обучение модели линейной регрессии\n",
    "linear_model = LinearRegression()\n",
    "linear_model.fit(X_train, y_train)\n",
    "\n",
    "# Получите предсказания модели для тестового набора данных\n",
    "y_pred = linear_model.predict(X_test)\n",
    "\n",
    "# Определите пороговое значение для классификации прибыльных и неприбыльных действий\n",
    "threshold = .5\n",
    "\n",
    "# Классифицируйте действия пользователя на прибыльные и неприбыльные\n",
    "predicted_labels = (y_pred > threshold).astype(int)\n",
    "\n",
    "# Оцените качество классификации\n",
    "accuracy = accuracy_score(y_test, predicted_labels)\n",
    "\n",
    "print(f\"Accuracy: {accuracy}\")"
   ]
  },
  {
   "cell_type": "markdown",
   "id": "5a2241a5",
   "metadata": {},
   "source": [
    "### Случайный лес"
   ]
  },
  {
   "cell_type": "code",
   "execution_count": 27,
   "id": "b7e5208b",
   "metadata": {},
   "outputs": [
    {
     "name": "stdout",
     "output_type": "stream",
     "text": [
      "100%|██████████| 50/50 [09:35<00:00, 11.50s/trial, best loss: -0.9073398588860364]\n",
      "Best Hyperparameters:\n",
      "{'max_depth': 29.0, 'min_samples_leaf': 5.0, 'min_samples_split': 11.0, 'n_estimators': 152.0}\n",
      "Accuracy on Test Data: 0.8953771289537713\n"
     ]
    }
   ],
   "source": [
    "# Определение функции для оптимизации гиперпараметров\n",
    "def objective(params):\n",
    "    # Параметры для оптимизации\n",
    "    n_estimators = int(params['n_estimators'])\n",
    "    max_depth = int(params['max_depth'])\n",
    "    min_samples_split = int(params['min_samples_split'])\n",
    "    min_samples_leaf = int(params['min_samples_leaf'])\n",
    "\n",
    "    # Создание модели случайного леса с заданными параметрами\n",
    "    model = RandomForestClassifier(\n",
    "        n_estimators=n_estimators,\n",
    "        max_depth=max_depth,\n",
    "        min_samples_split=min_samples_split,\n",
    "        min_samples_leaf=min_samples_leaf,\n",
    "        random_state=12345,\n",
    "    )\n",
    "\n",
    "    # Вычисление средней точности на кросс-валидации\n",
    "    score = cross_val_score(model, X_train, y_train, cv=5, scoring=\"accuracy\")\n",
    "    return -score.mean()  # Минимизируем отрицательную точность\n",
    "\n",
    "# Определение пространства поиска гиперпараметров\n",
    "space = {\n",
    "    'n_estimators': hp.quniform('n_estimators', 100, 500, 1),\n",
    "    'max_depth': hp.quniform('max_depth', 5, 30, 1),\n",
    "    'min_samples_split': hp.quniform('min_samples_split', 2, 20, 1),\n",
    "    'min_samples_leaf': hp.quniform('min_samples_leaf', 1, 10, 1),\n",
    "}\n",
    "\n",
    "# Создание объекта Trials для отслеживания итераций оптимизации\n",
    "trials = Trials()\n",
    "\n",
    "# Запуск оптимизации\n",
    "best = fmin(fn=objective, space=space, algo=tpe.suggest, max_evals=50, trials=trials)\n",
    "\n",
    "# Вывод наилучших гиперпараметров\n",
    "print(\"Best Hyperparameters:\")\n",
    "print(best)\n",
    "\n",
    "# Создание модели с наилучшими гиперпараметрами и обучение ее\n",
    "best_rf_classifier = RandomForestClassifier(\n",
    "    n_estimators=int(best['n_estimators']),\n",
    "    max_depth=int(best['max_depth']),\n",
    "    min_samples_split=int(best['min_samples_split']),\n",
    "    min_samples_leaf=int(best['min_samples_leaf']),\n",
    "    random_state=12345,\n",
    ")\n",
    "\n",
    "best_rf_classifier.fit(X_train, y_train)\n",
    "\n",
    "# Оценка модели на тестовом наборе данных\n",
    "accuracy = best_rf_classifier.score(X_test, y_test)\n",
    "print(\"Accuracy on Test Data:\", accuracy)"
   ]
  },
  {
   "cell_type": "markdown",
   "id": "7cf8b8b2",
   "metadata": {},
   "source": [
    "### Вывод"
   ]
  },
  {
   "cell_type": "markdown",
   "id": "6939bdb9",
   "metadata": {},
   "source": [
    "Лучший результат показала модель Случайного Леса. Эта модель делает более точные предсказания"
   ]
  },
  {
   "cell_type": "markdown",
   "id": "e175efb9",
   "metadata": {},
   "source": [
    "## Общий вывод"
   ]
  },
  {
   "cell_type": "markdown",
   "id": "cd8ff942",
   "metadata": {},
   "source": [
    "В ходе работы была проведена предобработка данных, а именно\n",
    "\n",
    "-изменены названия колонок,\n",
    "\n",
    "-типы данных в столбцах revenue и weekend.\n",
    "\n",
    "Были обучены модели линейной регрессии и случайного леса и посчитана accuracy. Как выяснилось, более точные прогнозы делает модель случайного леса"
   ]
  },
  {
   "cell_type": "code",
   "execution_count": null,
   "id": "b6222316",
   "metadata": {},
   "outputs": [],
   "source": []
  }
 ],
 "metadata": {
  "kernelspec": {
   "display_name": "Python 3 (ipykernel)",
   "language": "python",
   "name": "python3"
  },
  "language_info": {
   "codemirror_mode": {
    "name": "ipython",
    "version": 3
   },
   "file_extension": ".py",
   "mimetype": "text/x-python",
   "name": "python",
   "nbconvert_exporter": "python",
   "pygments_lexer": "ipython3",
   "version": "3.9.13"
  }
 },
 "nbformat": 4,
 "nbformat_minor": 5
}
